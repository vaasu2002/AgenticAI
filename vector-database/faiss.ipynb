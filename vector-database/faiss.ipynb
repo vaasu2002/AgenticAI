{
 "cells": [
  {
   "cell_type": "markdown",
   "id": "50a403a0",
   "metadata": {},
   "source": [
    "# FAISS (Facebook AI Similarity Search):\n",
    "-  Designed for efficient similarity search in dense vector spaces.\n",
    "-  Extremely fast because it keeps the index in RAM.\n",
    "-  Best suited when your dataset can fit into main memory (RAM).\n",
    "\n",
    "| Feature         | Description                                                                  |\n",
    "| --------------- | ---------------------------------------------------------------------------- |\n",
    "| **Storage**     | RAM (primarily)                                                              |\n",
    "| **Performance** | Very fast (sub-millisecond latency possible)                                 |\n",
    "| **Scalability** | Limited by system memory                                                     |\n",
    "| **Persistence** | You can **save/load indexes**, but during search, the data must be in memory |\n",
    "| **Sharding**    | Possible, but needs custom infrastructure                                    |\n",
    "\n"
   ]
  },
  {
   "cell_type": "markdown",
   "id": "bb72e513",
   "metadata": {},
   "source": [
    "## Indexing\n",
    "#### Exact Matching\n",
    "- FLAT — (e.g., IndexFlatL2 or IndexFlatIP)\n",
    "    -   Use when: Dataset fits in memory and you want 100% accuracy.\n",
    "    -   Searches by brute force (linear/slow)\n",
    "    -   L2 -> Euclidean distance\n",
    "    -   IP -> Inner Product (Cosine similarity)\n",
    "\n",
    "#### Approximation Matching\n",
    "- IVF — Inverted File Index - (e.g.,  IndexIVFFlat, IndexIVFPQ)\n",
    "    -   Approximation (cluster-based)\n",
    "    -   Fast searches only in top clusters\n",
    "- HNSW — Hierarchical Navigable Small World Graph[Graph based indexing] (e.g., IndexHNSWFlat)\n",
    "    -   Approximation (graph based traversal)\n",
    "    -   Very Fast (graph-walk)"
   ]
  },
  {
   "cell_type": "code",
   "execution_count": 1,
   "id": "13a42549",
   "metadata": {},
   "outputs": [
    {
     "name": "stdout",
     "output_type": "stream",
     "text": [
      "768\n"
     ]
    }
   ],
   "source": [
    "import faiss\n",
    "from langchain_community.vectorstores import FAISS\n",
    "from langchain_community.docstore.in_memory import InMemoryDocstore\n",
    "\n",
    "\n",
    "import os\n",
    "from dotenv import load_dotenv\n",
    "load_dotenv()\n",
    "os.environ['GOOGLE_API_KEY']=os.getenv(\"GOOGLE_API_KEY\")\n",
    "\n",
    "\n",
    "from langchain_google_genai import GoogleGenerativeAIEmbeddings\n",
    "embeddings_model = GoogleGenerativeAIEmbeddings(model=\"models/embedding-001\")\n",
    "test_embedding = embeddings_model.embed_query(\"This is a good test\")\n",
    "print(len(test_embedding))"
   ]
  },
  {
   "cell_type": "code",
   "execution_count": 2,
   "id": "754f516d",
   "metadata": {},
   "outputs": [
    {
     "data": {
      "text/plain": [
       "<faiss.swigfaiss.IndexFlatL2; proxy of <Swig Object of type 'faiss::IndexFlatL2 *' at 0x137592940> >"
      ]
     },
     "execution_count": 2,
     "metadata": {},
     "output_type": "execute_result"
    }
   ],
   "source": [
    "index=faiss.IndexFlatL2(768) # exactly matcing based on L2 (Euclidean) distance\n",
    "index"
   ]
  },
  {
   "cell_type": "code",
   "execution_count": 3,
   "id": "27a8ca24",
   "metadata": {},
   "outputs": [],
   "source": [
    "vector_store=FAISS(\n",
    "    embedding_function=embeddings_model,\n",
    "    index=index,\n",
    "    docstore=InMemoryDocstore(),\n",
    "    index_to_docstore_id={},\n",
    ")"
   ]
  },
  {
   "cell_type": "code",
   "execution_count": 4,
   "metadata": {},
   "outputs": [
    {
     "data": {
      "text/plain": [
       "['a23c5102-faab-45d8-bd13-eea2c2252d46',\n",
       " '537e3d9b-9f30-44cd-8a4c-16bffc680ea5',\n",
       " 'd97d01b1-202a-42b3-8260-6fa42cd0edb4',\n",
       " '4ca3df6e-df6f-40a2-9250-d5d0b8fd2b23',\n",
       " 'bfe22dd3-e2dc-4e44-8f23-3cfc54a338e0']"
      ]
     },
     "execution_count": 4,
     "metadata": {},
     "output_type": "execute_result"
    }
   ],
   "source": [
    "documents = [\n",
    "    \"Artificial intelligence (AI) is a set of technologies that enable computers to perform a variety of advanced functions, including the ability to see, understand and translate spoken and written language, analyze data, make recommendations, and more. \",\n",
    "    \"Artificial intelligence is a field of science concerned with building computers and machines that can reason, learn, and act in such a way that would normally require human intelligence or that involves data whose scale exceeds what humans can analyze. \",\n",
    "    \"Artificial intelligence (AI) is the capability of computational systems to perform tasks typically associated with human intelligence, such as learning, reasoning, problem-solving, perception, and decision-making. It is a field of research in computer science that develops and studies methods and software that enable machines to perceive their environment and use learning and intelligence to take actions that maximize their chances of achieving defined goals.\",\n",
    "    \"The dog (Canis familiaris or Canis lupus familiaris) is a domesticated descendant of the gray wolf. Also called the domestic dog, it was selectively bred from an extinct population of wolves during the Late Pleistocene by hunter-gatherers. The dog was the first species to be domesticated by humans, over 14,000 years ago and before the development of agriculture. Due to their long association with humans, dogs have gained the ability to thrive on a starch-rich diet that would be inadequate for other canids.\",\n",
    "    \"Dogs have been bred for desired behaviors, sensory capabilities, and physical attributes. Dog breeds vary widely in shape, size, and color. They have the same number of bones (with the exception of the tail), powerful jaws that house around 42 teeth, and well-developed senses of smell, hearing, and sight. Compared to humans, dogs possess a superior sense of smell and hearing, but inferior visual acuity. Dogs perform many roles for humans, such as hunting, herding, pulling loads, protection, companionship, therapy, aiding disabled people, and assisting police and the military.\",\n",
    "]\n",
    "\n",
    "vector_store.add_texts(documents)"
   ]
  },
  {
   "cell_type": "code",
   "execution_count": 5,
   "id": "93823359",
   "metadata": {},
   "outputs": [
    {
     "data": {
      "text/plain": [
       "{0: 'a23c5102-faab-45d8-bd13-eea2c2252d46',\n",
       " 1: '537e3d9b-9f30-44cd-8a4c-16bffc680ea5',\n",
       " 2: 'd97d01b1-202a-42b3-8260-6fa42cd0edb4',\n",
       " 3: '4ca3df6e-df6f-40a2-9250-d5d0b8fd2b23',\n",
       " 4: 'bfe22dd3-e2dc-4e44-8f23-3cfc54a338e0'}"
      ]
     },
     "execution_count": 5,
     "metadata": {},
     "output_type": "execute_result"
    }
   ],
   "source": [
    "vector_store.index_to_docstore_id"
   ]
  },
  {
   "cell_type": "code",
   "execution_count": 9,
   "id": "af6b6fc9",
   "metadata": {},
   "outputs": [
    {
     "data": {
      "text/plain": [
       "[Document(id='bfe22dd3-e2dc-4e44-8f23-3cfc54a338e0', metadata={}, page_content='Dogs have been bred for desired behaviors, sensory capabilities, and physical attributes. Dog breeds vary widely in shape, size, and color. They have the same number of bones (with the exception of the tail), powerful jaws that house around 42 teeth, and well-developed senses of smell, hearing, and sight. Compared to humans, dogs possess a superior sense of smell and hearing, but inferior visual acuity. Dogs perform many roles for humans, such as hunting, herding, pulling loads, protection, companionship, therapy, aiding disabled people, and assisting police and the military.'),\n",
       " Document(id='4ca3df6e-df6f-40a2-9250-d5d0b8fd2b23', metadata={}, page_content='The dog (Canis familiaris or Canis lupus familiaris) is a domesticated descendant of the gray wolf. Also called the domestic dog, it was selectively bred from an extinct population of wolves during the Late Pleistocene by hunter-gatherers. The dog was the first species to be domesticated by humans, over 14,000 years ago and before the development of agriculture. Due to their long association with humans, dogs have gained the ability to thrive on a starch-rich diet that would be inadequate for other canids.')]"
      ]
     },
     "execution_count": 9,
     "metadata": {},
     "output_type": "execute_result"
    }
   ],
   "source": [
    "query = \"Why do dogs tilt their heads when they hear certain sounds?\"\n",
    "results = vector_store.similarity_search(query, k=2)\n",
    "results"
   ]
  },
  {
   "cell_type": "code",
   "execution_count": 13,
   "id": "20c4e1d3",
   "metadata": {},
   "outputs": [
    {
     "data": {
      "text/plain": [
       "[Document(id='d97d01b1-202a-42b3-8260-6fa42cd0edb4', metadata={}, page_content='Artificial intelligence (AI) is the capability of computational systems to perform tasks typically associated with human intelligence, such as learning, reasoning, problem-solving, perception, and decision-making. It is a field of research in computer science that develops and studies methods and software that enable machines to perceive their environment and use learning and intelligence to take actions that maximize their chances of achieving defined goals.'),\n",
       " Document(id='537e3d9b-9f30-44cd-8a4c-16bffc680ea5', metadata={}, page_content='Artificial intelligence is a field of science concerned with building computers and machines that can reason, learn, and act in such a way that would normally require human intelligence or that involves data whose scale exceeds what humans can analyze. '),\n",
       " Document(id='a23c5102-faab-45d8-bd13-eea2c2252d46', metadata={}, page_content='Artificial intelligence (AI) is a set of technologies that enable computers to perform a variety of advanced functions, including the ability to see, understand and translate spoken and written language, analyze data, make recommendations, and more. ')]"
      ]
     },
     "execution_count": 13,
     "metadata": {},
     "output_type": "execute_result"
    }
   ],
   "source": [
    "query = \"What is branch of computer science in which we deal with machine learning?\"\n",
    "results = vector_store.similarity_search(query, k=3)\n",
    "results"
   ]
  },
  {
   "cell_type": "code",
   "execution_count": 19,
   "id": "a00841da",
   "metadata": {},
   "outputs": [],
   "source": [
    "# from uuid import uuid4\n",
    "from langchain_core.documents import Document\n",
    "\n",
    "document_1 = Document(\n",
    "    page_content=\"I had chocolate chip pancakes and scrambled eggs for breakfast this morning.\",\n",
    "    metadata={\"source\": \"tweet\"},\n",
    ")\n",
    "\n",
    "document_2 = Document(\n",
    "    page_content=\"The weather forecast for tomorrow is cloudy and overcast, with a high of 62 degrees.\",\n",
    "    metadata={\"source\": \"news\"},\n",
    ")\n",
    "\n",
    "document_3 = Document(\n",
    "    page_content=\"Building an exciting new project with LangChain - come check it out!\",\n",
    "    metadata={\"source\": \"tweet\"},\n",
    ")\n",
    "\n",
    "document_4 = Document(\n",
    "    page_content=\"Robbers broke into the city bank and stole $1 million in cash.\",\n",
    "    metadata={\"source\": \"news\"},\n",
    ")\n",
    "\n",
    "document_5 = Document(\n",
    "    page_content=\"Wow! That was an amazing movie. I can't wait to see it again.\",\n",
    "    metadata={\"source\": \"tweet\"},\n",
    ")\n",
    "\n",
    "document_6 = Document(\n",
    "    page_content=\"Is the new iPhone worth the price? Read this review to find out.\",\n",
    "    metadata={\"source\": \"website\"},\n",
    ")\n",
    "\n",
    "document_7 = Document(\n",
    "    page_content=\"The top 10 soccer players in the world right now.\",\n",
    "    metadata={\"source\": \"website\"},\n",
    ")\n",
    "\n",
    "document_8 = Document(\n",
    "    page_content=\"LangGraph is the best framework for building stateful, agentic applications!\",\n",
    "    metadata={\"source\": \"website\"},\n",
    ")\n",
    "\n",
    "document_9 = Document(\n",
    "    page_content=\"The stock market is down 500 points today due to fears of a recession.\",\n",
    "    metadata={\"source\": \"news\"},\n",
    ")\n",
    "\n",
    "document_10 = Document(\n",
    "    page_content=\"I have a bad feeling I am going to get deleted :(\",\n",
    "    metadata={\"source\": \"tweet\"},\n",
    ")\n",
    "\n",
    "documents = [\n",
    "    document_1,\n",
    "    document_2,\n",
    "    document_3,\n",
    "    document_4,\n",
    "    document_5,\n",
    "    document_6,\n",
    "    document_7,\n",
    "    document_8,\n",
    "    document_9,\n",
    "    document_10,\n",
    "]"
   ]
  },
  {
   "cell_type": "code",
   "execution_count": 20,
   "id": "bd031857",
   "metadata": {},
   "outputs": [],
   "source": [
    "index=faiss.IndexFlatIP(768)\n",
    "vector_store=FAISS(\n",
    "    embedding_function=embeddings_model,\n",
    "    index=index,\n",
    "    docstore=InMemoryDocstore(),\n",
    "    index_to_docstore_id={},\n",
    ")"
   ]
  },
  {
   "cell_type": "code",
   "execution_count": 21,
   "id": "61533019",
   "metadata": {},
   "outputs": [
    {
     "data": {
      "text/plain": [
       "['9e98c691-9620-4381-b242-24baf164ce42',\n",
       " '1452bce2-c61c-4a40-99e1-214a948b0ed0',\n",
       " '0acfacdd-0333-436a-b175-fe0383a2ceb6',\n",
       " '8e350ff1-4533-42fe-ab41-56277fa1aa2c',\n",
       " '4ab49481-bbce-4742-9afc-25ccd819cfe7',\n",
       " '19ad680d-f985-427e-9e0f-e28bf75c1aea',\n",
       " '62e61641-e260-4275-ad16-9f8282cb35f0',\n",
       " '00a23dad-d08b-4f68-88f2-2870a6e29782',\n",
       " 'fe18031e-298e-4d8c-8992-336d6a3d607d',\n",
       " 'cc72d686-71d8-4c26-ad64-293066fe22e7']"
      ]
     },
     "execution_count": 21,
     "metadata": {},
     "output_type": "execute_result"
    }
   ],
   "source": [
    "vector_store.add_documents(documents=documents)"
   ]
  },
  {
   "cell_type": "code",
   "execution_count": 22,
   "id": "16c81e23",
   "metadata": {},
   "outputs": [
    {
     "data": {
      "text/plain": [
       "[Document(id='00a23dad-d08b-4f68-88f2-2870a6e29782', metadata={'source': 'website'}, page_content='LangGraph is the best framework for building stateful, agentic applications!'),\n",
       " Document(id='0acfacdd-0333-436a-b175-fe0383a2ceb6', metadata={'source': 'tweet'}, page_content='Building an exciting new project with LangChain - come check it out!')]"
      ]
     },
     "execution_count": 22,
     "metadata": {},
     "output_type": "execute_result"
    }
   ],
   "source": [
    "vector_store.similarity_search(\n",
    "    \"LangChain provides abstractions to make working with LLMs easy\",\n",
    "    k=2\n",
    ")"
   ]
  },
  {
   "cell_type": "code",
   "execution_count": 24,
   "id": "08aa9214",
   "metadata": {},
   "outputs": [
    {
     "data": {
      "text/plain": [
       "[Document(id='0acfacdd-0333-436a-b175-fe0383a2ceb6', metadata={'source': 'tweet'}, page_content='Building an exciting new project with LangChain - come check it out!'),\n",
       " Document(id='cc72d686-71d8-4c26-ad64-293066fe22e7', metadata={'source': 'tweet'}, page_content='I have a bad feeling I am going to get deleted :(')]"
      ]
     },
     "execution_count": 24,
     "metadata": {},
     "output_type": "execute_result"
    }
   ],
   "source": [
    "vector_store.similarity_search(\n",
    "    \"LangChain provides abstractions to make working with LLMs easy\",\n",
    "    filter={\"source\":{\"$eq\": \"tweet\"}}    ,\n",
    "    k=2\n",
    ")"
   ]
  },
  {
   "cell_type": "code",
   "execution_count": 29,
   "id": "fc858bb4",
   "metadata": {},
   "outputs": [
    {
     "name": "stdout",
     "output_type": "stream",
     "text": [
      "[Document(id='00a23dad-d08b-4f68-88f2-2870a6e29782', metadata={'source': 'website'}, page_content='LangGraph is the best framework for building stateful, agentic applications!'), Document(id='19ad680d-f985-427e-9e0f-e28bf75c1aea', metadata={'source': 'website'}, page_content='Is the new iPhone worth the price? Read this review to find out.')]\n",
      "{'source': 'website'}\n",
      "LangGraph is the best framework for building stateful, agentic applications!\n"
     ]
    }
   ],
   "source": [
    "result = vector_store.similarity_search(\n",
    "    \"LangChain provides abstractions to make working with LLMs easy\",\n",
    "    filter={\"source\":{\"$eq\": \"website\"}}    ,\n",
    "    k=2\n",
    ")\n",
    "\n",
    "print(result)\n",
    "\n",
    "print(result[0].metadata)\n",
    "print(result[0].page_content)"
   ]
  },
  {
   "cell_type": "markdown",
   "id": "5f8157ba",
   "metadata": {},
   "source": [
    "## Retriever"
   ]
  },
  {
   "cell_type": "code",
   "execution_count": 32,
   "id": "964f51fb",
   "metadata": {},
   "outputs": [
    {
     "data": {
      "text/plain": [
       "[Document(id='00a23dad-d08b-4f68-88f2-2870a6e29782', metadata={'source': 'website'}, page_content='LangGraph is the best framework for building stateful, agentic applications!'),\n",
       " Document(id='0acfacdd-0333-436a-b175-fe0383a2ceb6', metadata={'source': 'tweet'}, page_content='Building an exciting new project with LangChain - come check it out!'),\n",
       " Document(id='cc72d686-71d8-4c26-ad64-293066fe22e7', metadata={'source': 'tweet'}, page_content='I have a bad feeling I am going to get deleted :(')]"
      ]
     },
     "execution_count": 32,
     "metadata": {},
     "output_type": "execute_result"
    }
   ],
   "source": [
    "retriever=vector_store.as_retriever(\n",
    "    search_kwargs={\n",
    "        \"k\": 3\n",
    "    }\n",
    ")\n",
    "\n",
    "retriever.invoke(\"LangChain provides abstractions to make working with LLMs easy\")"
   ]
  },
  {
   "cell_type": "code",
   "execution_count": 34,
   "id": "e3afd673",
   "metadata": {},
   "outputs": [],
   "source": [
    "vector_store.save_local(\"vector-store\")"
   ]
  },
  {
   "cell_type": "code",
   "execution_count": 35,
   "id": "2466f093",
   "metadata": {},
   "outputs": [],
   "source": [
    "new_vector_store=FAISS.load_local(\n",
    "  \"vector-store\",embeddings_model ,allow_dangerous_deserialization=True\n",
    ")"
   ]
  },
  {
   "cell_type": "code",
   "execution_count": 36,
   "id": "69d8732e",
   "metadata": {},
   "outputs": [
    {
     "data": {
      "text/plain": [
       "[Document(id='0acfacdd-0333-436a-b175-fe0383a2ceb6', metadata={'source': 'tweet'}, page_content='Building an exciting new project with LangChain - come check it out!'),\n",
       " Document(id='00a23dad-d08b-4f68-88f2-2870a6e29782', metadata={'source': 'website'}, page_content='LangGraph is the best framework for building stateful, agentic applications!'),\n",
       " Document(id='cc72d686-71d8-4c26-ad64-293066fe22e7', metadata={'source': 'tweet'}, page_content='I have a bad feeling I am going to get deleted :('),\n",
       " Document(id='4ab49481-bbce-4742-9afc-25ccd819cfe7', metadata={'source': 'tweet'}, page_content=\"Wow! That was an amazing movie. I can't wait to see it again.\")]"
      ]
     },
     "execution_count": 36,
     "metadata": {},
     "output_type": "execute_result"
    }
   ],
   "source": [
    "new_vector_store.similarity_search(\"langchain\")"
   ]
  }
 ],
 "metadata": {
  "language_info": {
   "name": "python"
  }
 },
 "nbformat": 4,
 "nbformat_minor": 5
}
