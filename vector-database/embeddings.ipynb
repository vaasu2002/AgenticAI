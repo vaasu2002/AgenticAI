{
 "cells": [
  {
   "cell_type": "code",
   "execution_count": 30,
   "id": "1a030024",
   "metadata": {},
   "outputs": [
    {
     "data": {
      "text/plain": [
       "True"
      ]
     },
     "execution_count": 30,
     "metadata": {},
     "output_type": "execute_result"
    }
   ],
   "source": [
    "import os\n",
    "from dotenv import load_dotenv\n",
    "load_dotenv()"
   ]
  },
  {
   "cell_type": "code",
   "execution_count": 31,
   "id": "73568c7e",
   "metadata": {},
   "outputs": [],
   "source": [
    "os.environ['GOOGLE_API_KEY']=os.getenv(\"GOOGLE_API_KEY\")"
   ]
  },
  {
   "cell_type": "code",
   "execution_count": 32,
   "id": "9d1ad6fe",
   "metadata": {},
   "outputs": [
    {
     "name": "stdout",
     "output_type": "stream",
     "text": [
      "768\n"
     ]
    }
   ],
   "source": [
    "from langchain_google_genai import GoogleGenerativeAIEmbeddings\n",
    "# embeddings_model = GoogleGenerativeAIEmbeddings(model=\"models/gemini-embedding-exp-03-07\")\n",
    "embeddings_model = GoogleGenerativeAIEmbeddings(model=\"models/embedding-001\")\n",
    "embedding = embeddings_model.embed_query(\"hello AI\")\n",
    "print(len(embedding))"
   ]
  },
  {
   "cell_type": "code",
   "execution_count": 33,
   "id": "9ea2988d",
   "metadata": {},
   "outputs": [],
   "source": [
    "documents = [\n",
    "    \"Artificial intelligence (AI) is a set of technologies that enable computers to perform a variety of advanced functions, including the ability to see, understand and translate spoken and written language, analyze data, make recommendations, and more. \",\n",
    "    \"Artificial intelligence is a field of science concerned with building computers and machines that can reason, learn, and act in such a way that would normally require human intelligence or that involves data whose scale exceeds what humans can analyze. \",\n",
    "    \"Artificial intelligence (AI) is the capability of computational systems to perform tasks typically associated with human intelligence, such as learning, reasoning, problem-solving, perception, and decision-making. It is a field of research in computer science that develops and studies methods and software that enable machines to perceive their environment and use learning and intelligence to take actions that maximize their chances of achieving defined goals.\",\n",
    "    \"The dog (Canis familiaris or Canis lupus familiaris) is a domesticated descendant of the gray wolf. Also called the domestic dog, it was selectively bred from an extinct population of wolves during the Late Pleistocene by hunter-gatherers. The dog was the first species to be domesticated by humans, over 14,000 years ago and before the development of agriculture. Due to their long association with humans, dogs have gained the ability to thrive on a starch-rich diet that would be inadequate for other canids.\",\n",
    "    \"Dogs have been bred for desired behaviors, sensory capabilities, and physical attributes. Dog breeds vary widely in shape, size, and color. They have the same number of bones (with the exception of the tail), powerful jaws that house around 42 teeth, and well-developed senses of smell, hearing, and sight. Compared to humans, dogs possess a superior sense of smell and hearing, but inferior visual acuity. Dogs perform many roles for humans, such as hunting, herding, pulling loads, protection, companionship, therapy, aiding disabled people, and assisting police and the military.\",\n",
    "]\n",
    "\n",
    "document_embedding=embeddings_model.embed_documents(documents)\n",
    "\n",
    "\n",
    "\n",
    "query = \"Why do dogs tilt their heads when they hear certain sounds?\"\n",
    "query_embedding=embeddings_model.embed_query(query)"
   ]
  },
  {
   "cell_type": "code",
   "execution_count": 34,
   "id": "a3e70cce",
   "metadata": {},
   "outputs": [
    {
     "name": "stdout",
     "output_type": "stream",
     "text": [
      "Cosine Similarity \n",
      "\n",
      "[[0.49971131 0.50200771 0.51000836 0.5883769  0.63376154]]\n",
      "\n",
      " L2 diatance \n",
      "\n",
      "[[1.00028775 0.9979893  0.98993998 0.90732794 0.85584753]]\n"
     ]
    }
   ],
   "source": [
    "from sklearn.metrics.pairwise import euclidean_distances,cosine_similarity\n",
    "\n",
    "print(\"Cosine Similarity \\n\")\n",
    "print(cosine_similarity([query_embedding],document_embedding))\n",
    "print(\"\\n L2 diatance \\n\")\n",
    "print(euclidean_distances([query_embedding],document_embedding))\n",
    "\n"
   ]
  },
  {
   "cell_type": "markdown",
   "id": "b7f788ad",
   "metadata": {},
   "source": [
    "| Metric            | Similarity Score Range | Behavior                              |\n",
    "| ----------------- | ---------------------- | ------------------------------------- |\n",
    "| Cosine Similarity | \\[-1, 1]               | Focuses on angle only |\n",
    "| L2 Distance       | \\[0, ∞)                | Focuses on **magnitude + direction**  |"
   ]
  },
  {
   "cell_type": "code",
   "execution_count": null,
   "id": "8ac864f9",
   "metadata": {},
   "outputs": [],
   "source": []
  }
 ],
 "metadata": {
  "kernelspec": {
   "display_name": "langchain",
   "language": "python",
   "name": "python3"
  },
  "language_info": {
   "codemirror_mode": {
    "name": "ipython",
    "version": 3
   },
   "file_extension": ".py",
   "mimetype": "text/x-python",
   "name": "python",
   "nbconvert_exporter": "python",
   "pygments_lexer": "ipython3",
   "version": "3.13.2"
  }
 },
 "nbformat": 4,
 "nbformat_minor": 5
}
