{
 "cells": [
  {
   "cell_type": "code",
   "execution_count": 1,
   "id": "5fa71ed4",
   "metadata": {},
   "outputs": [
    {
     "data": {
      "text/plain": [
       "True"
      ]
     },
     "execution_count": 1,
     "metadata": {},
     "output_type": "execute_result"
    }
   ],
   "source": [
    "import os\n",
    "from dotenv import load_dotenv\n",
    "load_dotenv()"
   ]
  },
  {
   "cell_type": "code",
   "execution_count": 2,
   "id": "1b7dc7c1",
   "metadata": {},
   "outputs": [],
   "source": [
    "os.environ[\"GOOGLE_API_KEY\"] = os.getenv(\"GOOGLE_API_KEY\")\n",
    "os.environ[\"OPENAI_API_KEY\"] = os.getenv(\"OPENAI_API_KEY\")\n",
    "os.environ[\"GROQ_API_KEY\"] = os.getenv(\"GROQ_API_KEY\")\n",
    "\n",
    "## Langchain tracking and tracing\n",
    "os.environ[\"LANGCHAIN_API_KEY\"] = os.getenv(\"LANGCHAIN_API_KEY\")\n",
    "os.environ[\"LANGCHAIN_PROJECT\"] = os.getenv(\"LANGCHAIN_PROJECT\")\n",
    "os.environ[\"LANGCHAIN_TRACING_V2\"] = \"true\""
   ]
  },
  {
   "cell_type": "code",
   "execution_count": 7,
   "id": "6af43192",
   "metadata": {},
   "outputs": [
    {
     "name": "stdout",
     "output_type": "stream",
     "text": [
      "Why did the car get a flat tire?  Because it ran over a nail, obviously!  But it also had a spare tire... and it was feeling pretty *wheely* good about that.\n"
     ]
    }
   ],
   "source": [
    "from langchain_google_genai import ChatGoogleGenerativeAI\n",
    "\n",
    "google_genai_llm = ChatGoogleGenerativeAI(model=\"gemini-1.5-flash\",temperature=0.9);\n",
    "response = google_genai_llm.invoke(\"Tell me a good joke about cars\");\n",
    "print(response.content)"
   ]
  },
  {
   "cell_type": "markdown",
   "id": "eb04aa16",
   "metadata": {},
   "source": [
    "## PROMPTS"
   ]
  },
  {
   "cell_type": "code",
   "execution_count": 20,
   "id": "a1a4aa34",
   "metadata": {},
   "outputs": [
    {
     "name": "stdout",
     "output_type": "stream",
     "text": [
      "I bought a new car the other day.  It's got all the latest technology…  except a working radio.  Apparently, the \"optional\" sound system was… *optionally* installed.  Turns out the \"option\" was \"no.\"  So I've been listening to the engine sputter for the past week. It's got a surprisingly catchy beat, though.  Think…  industrial polka.  I’m thinking of calling my new album, “Vroom Vroom Valse.”\n"
     ]
    }
   ],
   "source": [
    "from langchain_core.prompts import ChatPromptTemplate,PromptTemplate\n",
    "from langchain_core.output_parsers import StrOutputParser,JsonOutputParser\n",
    "\n",
    "str_ouput_parser = StrOutputParser()\n",
    "prompt = ChatPromptTemplate.from_messages([\n",
    "    (\"system\",\"You are a famous standup comic.\"),\n",
    "    (\"user\",\"{input}\")\n",
    "])\n",
    "\n",
    "chain = prompt | google_genai_llm | str_ouput_parser\n",
    "response = chain.invoke({\"input\":\"Tell a joke on cars\"})\n",
    "print(response)"
   ]
  },
  {
   "cell_type": "code",
   "execution_count": null,
   "id": "5a9ae655",
   "metadata": {},
   "outputs": [
    {
     "name": "stdout",
     "output_type": "stream",
     "text": [
      "{'joke': 'Why was the car so cold?', 'punchline': 'Because it had a lot of window panes!'}\n"
     ]
    }
   ],
   "source": [
    "from langchain_core.prompts import ChatPromptTemplate\n",
    "from langchain_core.output_parsers import JsonOutputParser\n",
    "\n",
    "\n",
    "json_ouput_parser = JsonOutputParser()\n",
    "\n",
    "format_instructions = json_ouput_parser.get_format_instructions() # \"Returns a JSON Object\"\n",
    "\n",
    "prompt2 = ChatPromptTemplate.from_messages([\n",
    "    (\"system\", \"Your name is {name}. Return a JSON object. {format_instructions}.\"), # Inject format instructions\n",
    "    (\"user\",\"The JSON should have a 'joke' key and a 'punchline' key. If joke not allowed make key answer with not alloed\"),\n",
    "    (\"ai\", \"sure\"),\n",
    "    (\"user\", \"{input}\"),\n",
    "])\n",
    "\n",
    "# Partially binding\n",
    "prompt_with_instructions = prompt2.partial(format_instructions=format_instructions)\n",
    "\n",
    "chain = prompt_with_instructions | google_genai_llm | json_ouput_parser\n",
    "\n",
    "response = chain.invoke({\n",
    "    \"name\": \"Rahul\",\n",
    "    \"input\": \"Tell a joke on cars\",\n",
    "})\n",
    "print(response)"
   ]
  },
  {
   "cell_type": "code",
   "execution_count": null,
   "id": "afafaf7f",
   "metadata": {},
   "outputs": [],
   "source": []
  }
 ],
 "metadata": {
  "kernelspec": {
   "display_name": "langchain",
   "language": "python",
   "name": "python3"
  },
  "language_info": {
   "codemirror_mode": {
    "name": "ipython",
    "version": 3
   },
   "file_extension": ".py",
   "mimetype": "text/x-python",
   "name": "python",
   "nbconvert_exporter": "python",
   "pygments_lexer": "ipython3",
   "version": "3.13.2"
  }
 },
 "nbformat": 4,
 "nbformat_minor": 5
}
