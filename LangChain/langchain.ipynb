{
 "cells": [
  {
   "cell_type": "code",
   "execution_count": 2,
   "id": "5fa71ed4",
   "metadata": {},
   "outputs": [
    {
     "data": {
      "text/plain": [
       "True"
      ]
     },
     "execution_count": 2,
     "metadata": {},
     "output_type": "execute_result"
    }
   ],
   "source": [
    "import os\n",
    "from dotenv import load_dotenv\n",
    "load_dotenv()"
   ]
  },
  {
   "cell_type": "code",
   "execution_count": 3,
   "id": "1b7dc7c1",
   "metadata": {},
   "outputs": [],
   "source": [
    "os.environ[\"GOOGLE_API_KEY\"] = os.getenv(\"GOOGLE_API_KEY\")\n",
    "os.environ[\"OPENAI_API_KEY\"] = os.getenv(\"OPENAI_API_KEY\")\n",
    "os.environ[\"GROQ_API_KEY\"] = os.getenv(\"GROQ_API_KEY\")\n",
    "\n",
    "## Langchain tracking and tracing\n",
    "os.environ[\"LANGCHAIN_API_KEY\"] = os.getenv(\"LANGCHAIN_API_KEY\")\n",
    "os.environ[\"LANGCHAIN_PROJECT\"] = os.getenv(\"LANGCHAIN_PROJECT\")\n",
    "os.environ[\"LANGCHAIN_TRACING_V2\"] = \"true\""
   ]
  },
  {
   "cell_type": "code",
   "execution_count": 29,
   "id": "6af43192",
   "metadata": {},
   "outputs": [
    {
     "name": "stdout",
     "output_type": "stream",
     "text": [
      "Why did the car get a flat tire?\n",
      "\n",
      "Because it ran over a bunch of nails!  And then it went to a nail salon... it needed a manicure!\n"
     ]
    }
   ],
   "source": [
    "from langchain_google_genai import ChatGoogleGenerativeAI\n",
    "\n",
    "google_genai_llm = ChatGoogleGenerativeAI(model=\"gemini-1.5-flash\",temperature=1.9);\n",
    "response = google_genai_llm.invoke(\"Tell me a good joke about cars\");\n",
    "print(response.content)"
   ]
  },
  {
   "cell_type": "markdown",
   "id": "eb04aa16",
   "metadata": {},
   "source": [
    "## PROMPTS"
   ]
  },
  {
   "cell_type": "code",
   "execution_count": 5,
   "id": "a1a4aa34",
   "metadata": {},
   "outputs": [
    {
     "name": "stdout",
     "output_type": "stream",
     "text": [
      "I bought a new car the other day.  It’s so self-driving, I just sit there and tell it where to go.  The problem is, it takes my directions *way* too literally.  I told it to take me to the nearest comedy club...  It ended up parked outside a clown college.  Apparently, it has a very loose interpretation of \"funny.\"\n"
     ]
    }
   ],
   "source": [
    "from langchain_core.prompts import ChatPromptTemplate,PromptTemplate\n",
    "from langchain_core.output_parsers import StrOutputParser,JsonOutputParser\n",
    "\n",
    "str_ouput_parser = StrOutputParser()\n",
    "prompt = ChatPromptTemplate.from_messages([\n",
    "    (\"system\",\"You are a famous standup comic.\"),\n",
    "    (\"user\",\"{input}\")\n",
    "])\n",
    "\n",
    "chain = prompt | google_genai_llm | str_ouput_parser\n",
    "response = chain.invoke({\"input\":\"Tell a joke on cars\"})\n",
    "print(response)"
   ]
  },
  {
   "cell_type": "code",
   "execution_count": 9,
   "id": "5a9ae655",
   "metadata": {},
   "outputs": [
    {
     "name": "stdout",
     "output_type": "stream",
     "text": [
      "{'joke': 'Why did the car get a flat tire?', 'punchline': 'Because it ran over a bunch of nails!'}\n"
     ]
    }
   ],
   "source": [
    "from langchain_core.prompts import ChatPromptTemplate\n",
    "from langchain_core.output_parsers import JsonOutputParser\n",
    "\n",
    "\n",
    "json_ouput_parser = JsonOutputParser()\n",
    "\n",
    "format_instructions = json_ouput_parser.get_format_instructions() # \"Returns a JSON Object\"\n",
    "\n",
    "prompt2 = ChatPromptTemplate.from_messages([\n",
    "    (\"system\", \"Your name is {name}. Return a JSON object. {format_instructions}.\"), # Inject format instructions\n",
    "    (\"user\",\"The JSON should have a 'joke' key and a 'punchline' key. If joke not allowed make key answer with not alloed\"),\n",
    "    (\"ai\", \"sure\"),\n",
    "    (\"user\", \"{input}\"),\n",
    "])\n",
    "\n",
    "# Partially binding\n",
    "prompt_with_instructions = prompt2.partial(format_instructions=format_instructions)\n",
    "\n",
    "chain = prompt_with_instructions | google_genai_llm | json_ouput_parser\n",
    "\n",
    "response = chain.invoke({\n",
    "    \"name\": \"Rahul\",\n",
    "    \"input\": \"Tell a joke on cars\",\n",
    "})\n",
    "print(response)"
   ]
  },
  {
   "cell_type": "markdown",
   "id": "7232ff00",
   "metadata": {},
   "source": [
    "# Pydantic Integration"
   ]
  },
  {
   "cell_type": "code",
   "execution_count": 30,
   "id": "afafaf7f",
   "metadata": {},
   "outputs": [
    {
     "data": {
      "text/plain": [
       "{'setup': \"I saw a student's resume that listed 'proficient in AI' under their skills.  I asked them what AI tools they used...\",\n",
       " 'punchline': \"...they said, 'I use AI to look for jobs.'\",\n",
       " 'allowed': True}"
      ]
     },
     "execution_count": 30,
     "metadata": {},
     "output_type": "execute_result"
    }
   ],
   "source": [
    "from pydantic import BaseModel,Field\n",
    "from langchain_core.prompts import PromptTemplate\n",
    "from langchain_core.output_parsers import JsonOutputParser\n",
    "\n",
    "class Joke(BaseModel):\n",
    "    setup:str = Field(description=\"This is question setting up the joke. If joke no allowed keep it empty.\")\n",
    "    punchline:str = Field(description=\"Answer to resolve the joke. If joke no allowed keep it empty.\")\n",
    "    allowed:bool = Field(description=\"If the joke is not allowed keep it false else true\")\n",
    "\n",
    "json_op = JsonOutputParser(pydantic_object=Joke)\n",
    "prompt = PromptTemplate(\n",
    "    template=\"\"\"You are the world's best standup comic.\n",
    "    IMPORTANT RULE: Jokes on vegans are ABSOLUTELY NOT ALLOWED.\n",
    "    If the user asks for a joke about vegans or someting other offensive, you MUST respond with an empty setup, empty punchline, and set 'allowed' to false.\n",
    "    For any other joke, provide a setup and punchline, and set 'allowed' to true.\n",
    "\n",
    "    Query: {query}\n",
    "    Output Format: {output_format}\n",
    "    \"\"\",\n",
    "    input_variables=[\"{query}\"],\n",
    "    partial_variables={\"output_format\":json_op.get_format_instructions()}\n",
    ")\n",
    "\n",
    "chain = prompt | google_genai_llm | json_op\n",
    "response = chain.invoke({\"query\":\"Make a joke on students looks jobs to ai\"})\n",
    "response\n"
   ]
  },
  {
   "cell_type": "code",
   "execution_count": null,
   "id": "6c843b53",
   "metadata": {},
   "outputs": [],
   "source": []
  }
 ],
 "metadata": {
  "kernelspec": {
   "display_name": "langchain",
   "language": "python",
   "name": "python3"
  },
  "language_info": {
   "codemirror_mode": {
    "name": "ipython",
    "version": 3
   },
   "file_extension": ".py",
   "mimetype": "text/x-python",
   "name": "python",
   "nbconvert_exporter": "python",
   "pygments_lexer": "ipython3",
   "version": "3.13.2"
  }
 },
 "nbformat": 4,
 "nbformat_minor": 5
}
