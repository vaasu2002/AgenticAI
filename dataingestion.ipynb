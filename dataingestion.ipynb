{
 "cells": [
  {
   "cell_type": "markdown",
   "id": "79e99c87",
   "metadata": {},
   "source": [
    "# Data Injection"
   ]
  },
  {
   "cell_type": "markdown",
   "id": "92d65acc",
   "metadata": {},
   "source": [
    "### Docuement Loader"
   ]
  },
  {
   "cell_type": "code",
   "execution_count": 11,
   "id": "95cce613",
   "metadata": {},
   "outputs": [],
   "source": [
    "from langchain_community.document_loaders.text import TextLoader"
   ]
  },
  {
   "cell_type": "code",
   "execution_count": 12,
   "id": "55967473",
   "metadata": {},
   "outputs": [
    {
     "name": "stdout",
     "output_type": "stream",
     "text": [
      "[Document(metadata={'source': 'speech.txt'}, page_content='Agentic AI represents a significant leap forward in artificial intelligence, moving beyond reactive systems to proactive,\\ngoal-oriented entities. Unlike traditional AI that primarily responds to direct prompts or performs predefined tasks, \\nagentic AI systems possess the ability to autonomously plan, execute, and adapt their actions to achieve complex objectives.\\nThey can break down high-level goals into smaller, manageable sub-tasks, gather necessary information, interact with their \\nenvironment (digital or physical), and even learn from their experiences to improve future performance. This paradigm shift \\nempowers AI to operate with a greater degree of independence and initiative, paving the way for more sophisticated and \\nimpactful applications across various domains.\\n\\nThe emergence of agentic AI promises to revolutionize how we approach problem-solving and automation. Imagine AI systems that \\ncan not only answer your questions but also proactively manage your schedule, conduct research, negotiate deals, or even \\ndesign and run scientific experiments with minimal human intervention. While the potential benefits are immense, the \\ndevelopment and deployment of agentic AI also necessitate careful consideration of ethical implications, safety protocols, \\nand robust oversight mechanisms. Ensuring these intelligent agents operate within defined boundaries, align with human values,\\nand remain transparent in their decision-making processes will be paramount as we integrate these powerful new capabilities \\ninto our world.')]\n"
     ]
    }
   ],
   "source": [
    "loader = TextLoader('speech.txt')\n",
    "text_docs = loader.load()\n",
    "print(text_docs)"
   ]
  },
  {
   "cell_type": "code",
   "execution_count": null,
   "id": "b8d56b81",
   "metadata": {},
   "outputs": [],
   "source": []
  }
 ],
 "metadata": {
  "kernelspec": {
   "display_name": "langchain",
   "language": "python",
   "name": "python3"
  },
  "language_info": {
   "codemirror_mode": {
    "name": "ipython",
    "version": 3
   },
   "file_extension": ".py",
   "mimetype": "text/x-python",
   "name": "python",
   "nbconvert_exporter": "python",
   "pygments_lexer": "ipython3",
   "version": "3.13.2"
  }
 },
 "nbformat": 4,
 "nbformat_minor": 5
}
